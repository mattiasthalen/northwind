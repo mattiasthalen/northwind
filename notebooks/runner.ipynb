{
 "cells": [
  {
   "cell_type": "markdown",
   "id": "462324a1-fa87-4bb3-b5a1-ecf121c8da19",
   "metadata": {
    "microsoft": {
     "language": "python",
     "language_group": "jupyter_python"
    },
    "nteract": {
     "transient": {
      "deleting": false
     }
    }
   },
   "source": [
    "# dlt & SQLMesh Runner"
   ]
  },
  {
   "cell_type": "markdown",
   "id": "858947f6-cf7d-4757-83c7-85c13de91f6b",
   "metadata": {
    "jp-MarkdownHeadingCollapsed": true,
    "microsoft": {
     "language": "python",
     "language_group": "jupyter_python"
    },
    "nteract": {
     "transient": {
      "deleting": false
     }
    }
   },
   "source": [
    "## Set Environment Vars"
   ]
  },
  {
   "cell_type": "code",
   "execution_count": null,
   "id": "ee001a86-4163-4fb3-8562-6c8c18cc34f0",
   "metadata": {
    "microsoft": {
     "language": "python",
     "language_group": "jupyter_python"
    }
   },
   "outputs": [],
   "source": [
    "import os\n",
    "os.environ[\"CREDENTIALS__AZURE_STORAGE_ACCOUNT_NAME\"] = \"onelake\"\n",
    "os.environ[\"CREDENTIALS__AZURE_ACCOUNT_HOST\"] = \"onelake.blob.fabric.microsoft.com\""
   ]
  },
  {
   "cell_type": "markdown",
   "id": "d98964a4-9b69-4660-9365-7bc117742b73",
   "metadata": {
    "microsoft": {
     "language": "python",
     "language_group": "jupyter_python"
    },
    "nteract": {
     "transient": {
      "deleting": false
     }
    }
   },
   "source": [
    "### Load From KeyVault"
   ]
  },
  {
   "cell_type": "code",
   "execution_count": null,
   "id": "2ac6562e-7f5d-458e-9e8c-0154d93849af",
   "metadata": {
    "microsoft": {
     "language": "python",
     "language_group": "jupyter_python"
    }
   },
   "outputs": [],
   "source": [
    "import os\n",
    "\n",
    "keyvault = \"mattiasthalen-fabric\"\n",
    "\n",
    "credentials = [\n",
    "    \"CREDENTIALS__AZURE_TENANT_ID\",\n",
    "    \"CREDENTIALS__AZURE_CLIENT_ID\",\n",
    "    \"CREDENTIALS__AZURE_CLIENT_SECRET\",\n",
    "]\n",
    "\n",
    "for credential in credentials:\n",
    "    secret = credential.replace(\"_\", \"-\")\n",
    "    value = notebookutils.credentials.getSecret(f\"https://{keyvault}.vault.azure.net/\", secret)\n",
    "    os.environ[credential] = value\n",
    "\n",
    "    print(f\"{credential} = {os.getenv(credential)}\")"
   ]
  },
  {
   "cell_type": "markdown",
   "id": "a0d9c5ec-430d-43f9-8eef-402b4514b510",
   "metadata": {
    "microsoft": {
     "language": "python",
     "language_group": "jupyter_python"
    },
    "nteract": {
     "transient": {
      "deleting": false
     }
    }
   },
   "source": [
    "### Load From Workspace"
   ]
  },
  {
   "cell_type": "code",
   "execution_count": null,
   "id": "87dc999f-0ea4-4c7c-8f3b-d1aaa32f7925",
   "metadata": {
    "microsoft": {
     "language": "python",
     "language_group": "jupyter_python"
    }
   },
   "outputs": [],
   "source": [
    "import sempy.fabric as fabric\n",
    "import os\n",
    "import pandas as pd\n",
    "\n",
    "state__item_name = \"sqlmesh__state\"\n",
    "lakehouse__item_name = \"landing_zone\"\n",
    "\n",
    "client = fabric.FabricRestClient()\n",
    "\n",
    "# Get workspace id and items\n",
    "workspace_id = fabric.get_workspace_id()\n",
    "workspace__response = client.get(f\"/v1/workspaces/{workspace_id}/items\")\n",
    "workspace__items = pd.json_normalize(workspace__response.json()['value'])\n",
    "\n",
    "# Get state endpoint and database name\n",
    "state__items = workspace__items[workspace__items[\"displayName\"] == state__item_name]\n",
    "state__item_id = state__items[state__items[\"type\"] == \"SQLDatabase\"].iloc[0, 0]\n",
    "\n",
    "state__response = client.get(f\"/v1/workspaces/{workspace_id}/sqlDatabases/{state__item_id}\")\n",
    "state__json = state__response.json()\n",
    "state__database = state__json[\"properties\"][\"databaseName\"]\n",
    "state__endpoint = state__json[\"properties\"][\"serverFqdn\"].split(\",\")[0]\n",
    "\n",
    "# Get warehouse endpoint\n",
    "warehouse__endpoint = state__endpoint.replace(\".database.\", \".datawarehouse.\")\n",
    "\n",
    "# Get lakehouse abfss path\n",
    "lakehouse__items = workspace__items[workspace__items[\"displayName\"] == lakehouse__item_name]\n",
    "lakehouse__item_id = lakehouse__items[lakehouse__items[\"type\"] == \"Lakehouse\"].iloc[0, 0]\n",
    "bucket_url = f\"abfss://{workspace_id}@onelake.dfs.fabric.microsoft.com/{lakehouse__item_id}/Tables\"\n",
    "\n",
    "# Set env vars\n",
    "vars = {\n",
    "    \"FABRIC__WORKSPACE_ID\": workspace_id,\n",
    "    \"FABRIC__WAREHOUSE_ENDPOINT\": warehouse__endpoint,\n",
    "    \"FABRIC__STATE_ENDPOINT\": state__endpoint,\n",
    "    \"FABRIC__STATE_DATABASE\": state__database,\n",
    "    \"DESTINATION__BUCKET_URL\": bucket_url,\n",
    "}\n",
    "\n",
    "for name, value in vars.items():\n",
    "    if not value:\n",
    "        print(f\"Null value for {name}\")\n",
    "    \n",
    "    if value:\n",
    "        os.environ[name] = value\n",
    "        print(f\"{name} = {os.getenv(name)}\")"
   ]
  },
  {
   "cell_type": "markdown",
   "id": "c2c8b17b-3c16-4400-8874-63d7d4fa3421",
   "metadata": {
    "microsoft": {
     "language": "python",
     "language_group": "jupyter_python"
    },
    "nteract": {
     "transient": {
      "deleting": false
     }
    }
   },
   "source": [
    "## Run Project"
   ]
  },
  {
   "cell_type": "code",
   "execution_count": null,
   "id": "b9161025-4e4e-4bd0-8786-681a1d75681d",
   "metadata": {
    "jupyter": {
     "outputs_hidden": false,
     "source_hidden": false
    },
    "microsoft": {
     "language": "python",
     "language_group": "jupyter_python"
    },
    "nteract": {
     "transient": {
      "deleting": false
     }
    }
   },
   "outputs": [],
   "source": [
    "def run_commands(commands, log_path):\n",
    "    import subprocess, tempfile\n",
    "    import datetime\n",
    "    import time\n",
    "\n",
    "    # Create timestamp-based log file name to avoid conflicts and enable chronological sorting\n",
    "    # UTC ensures consistent timestamps regardless of local timezone\n",
    "    timestamp = datetime.datetime.utcnow().strftime(\"%Y%m%d_%H%M%S\")\n",
    "    log_file = f\"commands__{timestamp}.log\"\n",
    "    full_log_path = f\"{log_path}/{log_file}\"\n",
    "\n",
    "    # Ensure log directory exists before attempting to write\n",
    "    # Using shell=True here is acceptable since we control the log_path parameter\n",
    "    subprocess.run(f\"mkdir -p {log_path}\", shell=True, check=True)\n",
    "\n",
    "    # Track failed commands for summary reporting - helps users quickly identify issues\n",
    "    failed_commands = []\n",
    "    # Record total execution time for performance monitoring and user feedback\n",
    "    start_time = time.time()\n",
    "    \n",
    "    # Open log file once and keep it open to ensure atomic writes and better performance\n",
    "    with open(full_log_path, \"w\") as log:\n",
    "        # Start with clear timestamp header for debugging and audit purposes\n",
    "        log.write(f\"=== Run started at {datetime.datetime.utcnow()} UTC ===\\n\\n\")\n",
    "        \n",
    "        # Use temporary directory to isolate command execution and ensure clean environment\n",
    "        # This prevents commands from interfering with each other or leaving artifacts\n",
    "        with tempfile.TemporaryDirectory() as tmpdir:\n",
    "            message = f\"🚀 Starting command execution in {tmpdir}...\"\n",
    "            # Dual output (console + log) keeps user informed while maintaining detailed records\n",
    "            print(message)\n",
    "            log.write(f\"{message}\\n\")\n",
    "\n",
    "            n_commands = len(commands)\n",
    "\n",
    "            # Process commands sequentially to maintain order and enable proper error tracking\n",
    "            for i, cmd in enumerate(commands):\n",
    "                # Track individual command timing for performance analysis\n",
    "                cmd_start = time.time()\n",
    "                \n",
    "                # Show progress with current/total count - helps users estimate completion time\n",
    "                print(f\"⚙️ Executing ({i+1}/{n_commands}): {cmd}\")\n",
    "                log.write(f\"⚙️ Executing: {cmd}\\n\")\n",
    "                log.write(f\"Started at: {datetime.datetime.utcnow().strftime('%H:%M:%S')} UTC\\n\")\n",
    "                \n",
    "                try:\n",
    "                    # Key subprocess.run parameters explained:\n",
    "                    # - cwd=tmpdir: Run in isolated temp directory for safety\n",
    "                    # - shell=True: Allow shell features like pipes, redirects (user responsibility to sanitize)\n",
    "                    # - check=True: Raise exception on non-zero exit codes for proper error handling\n",
    "                    # - capture_output=True: Capture both stdout/stderr for logging\n",
    "                    # - text=True: Handle output as strings rather than bytes for easier processing\n",
    "                    result = subprocess.run(\n",
    "                        cmd, cwd=tmpdir, shell=True, check=True,\n",
    "                        capture_output=True, text=True\n",
    "                    )\n",
    "                    \n",
    "                    cmd_duration = time.time() - cmd_start\n",
    "                    \n",
    "                    # Log all output for debugging, but handle empty output gracefully\n",
    "                    # Separate stdout/stderr to maintain distinction for troubleshooting\n",
    "                    if result.stdout.strip():\n",
    "                        log.write(f\"STDOUT:\\n{result.stdout}\")\n",
    "                    if result.stderr.strip():\n",
    "                        log.write(f\"STDERR:\\n{result.stderr}\")\n",
    "                    # Explicitly note when there's no output to avoid confusion about missing logs\n",
    "                    if not result.stdout.strip() and not result.stderr.strip():\n",
    "                        log.write(\"(no output)\\n\")\n",
    "                    \n",
    "                    # Provide immediate feedback to user while logging detailed timing\n",
    "                    duration_msg = f\"✅ SUCCESS (took {cmd_duration:.2f}s)\"\n",
    "                    print(f\"   ✅ Success in {cmd_duration:.2f}s\")\n",
    "                    log.write(f\"{duration_msg}\\n\")\n",
    "                    \n",
    "                except subprocess.CalledProcessError as e:\n",
    "                    cmd_duration = time.time() - cmd_start\n",
    "                    \n",
    "                    # Store failure info for summary - include command number for easy reference\n",
    "                    failed_commands.append((i+1, cmd))\n",
    "                    \n",
    "                    # Log failure with exit code for debugging and timing for performance analysis\n",
    "                    error_msg = f\"❌ FAILED with exit code {e.returncode} (took {cmd_duration:.2f}s)\"\n",
    "                    print(f\"   ❌ Failed in {cmd_duration:.2f}s\")\n",
    "                    log.write(f\"{error_msg}\\n\")\n",
    "                    \n",
    "                    # Capture error output even on failure - critical for debugging\n",
    "                    # Handle cases where stderr/stdout might be None or empty\n",
    "                    if e.stdout and e.stdout.strip():\n",
    "                        log.write(f\"STDOUT:\\n{e.stdout}\")\n",
    "                    if e.stderr and e.stderr.strip():\n",
    "                        log.write(f\"STDERR:\\n{e.stderr}\")\n",
    "                    if not (e.stdout and e.stdout.strip()) and not (e.stderr and e.stderr.strip()):\n",
    "                        log.write(\"(no output)\\n\")\n",
    "                \n",
    "                # Separator between commands for readability in log file\n",
    "                log.write(\"---\\n\")\n",
    "\n",
    "            # Calculate and report total execution time for performance monitoring\n",
    "            total_runtime = time.time() - start_time\n",
    "            \n",
    "            # Comprehensive execution summary for quick assessment\n",
    "            log.write(f\"\\n=== EXECUTION SUMMARY ===\\n\")\n",
    "            log.write(f\"Total runtime: {total_runtime:.2f}s\\n\")\n",
    "            log.write(f\"Commands executed: {n_commands}\\n\")\n",
    "            \n",
    "            # Provide detailed failure reporting if any commands failed\n",
    "            if failed_commands:\n",
    "                failure_summary = f\"❌ {len(failed_commands)} command(s) failed:\"\n",
    "                print(failure_summary)\n",
    "                log.write(f\"{failure_summary}\\n\")\n",
    "                \n",
    "                # List each failed command with its number for easy reference back to logs\n",
    "                for cmd_num, cmd in failed_commands:\n",
    "                    summary_line = f\"  - Command {cmd_num}: {cmd}\"\n",
    "                    print(summary_line)\n",
    "                    log.write(f\"{summary_line}\\n\")\n",
    "                \n",
    "                # Show partial success count - helps assess overall batch health\n",
    "                success_count = n_commands - len(failed_commands)\n",
    "                final_msg = f\"⚠️  Completed with {success_count}/{n_commands} commands successful in {total_runtime:.2f}s\"\n",
    "                print(final_msg)\n",
    "                log.write(f\"\\n{final_msg}\\n\")\n",
    "            else:\n",
    "                # Celebrate complete success - positive reinforcement for users\n",
    "                success_msg = f\"🎉 All {n_commands} commands completed successfully in {total_runtime:.2f}s!\"\n",
    "                print(success_msg)\n",
    "                log.write(f\"\\n✅ {success_msg}\\n\")\n",
    "\n",
    "    # Return log path so caller can access detailed logs, and failure list for programmatic handling\n",
    "    print(f\"📝 Log saved to: {full_log_path}\")\n",
    "    return full_log_path, failed_commands"
   ]
  },
  {
   "cell_type": "code",
   "execution_count": null,
   "id": "c373b61e-9f8c-42df-8110-281c472b5484",
   "metadata": {
    "microsoft": {
     "language": "python",
     "language_group": "jupyter_python"
    }
   },
   "outputs": [],
   "source": [
    "organization = \"mattiasthalen\"\n",
    "repo_name = \"northwind\"\n",
    "repo_url = f\"https://github.com/{organization}/{repo_name}.git\"\n",
    "logs_path = \"/lakehouse/default/Files/logs\"\n",
    "\n",
    "commands = [\n",
    "    # Clone the project repo\n",
    "    f\"git clone --depth 1 {repo_url} .\",\n",
    "\n",
    "    # Setup the venv\n",
    "    \"pip install uv\",\n",
    "    \"uv sync\",\n",
    "\n",
    "    # Symlink logs into the default lakehouse to persist them\n",
    "    f\"ln -s {logs_path} logs\",\n",
    "\n",
    "    # Run the ELT commands using\n",
    "    \"uv run dlt/northwind.py prod\",\n",
    "    \"uv run sqlmesh -p sqlmesh plan prod --run --auto-apply --no-prompts\",\n",
    "]\n",
    "\n",
    "_ = run_commands(commands, logs_path)"
   ]
  }
 ],
 "metadata": {
  "kernel_info": {
   "jupyter_kernel_name": "python3.11",
   "name": "jupyter"
  },
  "kernelspec": {
   "display_name": "Jupyter",
   "name": "jupyter"
  },
  "language_info": {
   "name": "python"
  },
  "microsoft": {
   "language": "python",
   "language_group": "jupyter_python",
   "ms_spell_check": {
    "ms_spell_check_language": "en"
   }
  },
  "nteract": {
   "version": "nteract-front-end@1.0.0"
  },
  "spark_compute": {
   "compute_id": "/trident/default",
   "session_options": {
    "conf": {
     "spark.synapse.nbs.session.timeout": "1200000"
    }
   }
  },
  "widgets": {
   "application/vnd.jupyter.widget-state+json": {
    "state": {
     "0b8844cef7f14640b3a14d9e918da5e3": {
      "model_module": "@jupyter-widgets/controls",
      "model_module_version": "2.0.0",
      "model_name": "FloatProgressModel",
      "state": {
       "bar_style": "success",
       "layout": "IPY_MODEL_d7bc3d5bb3464e04975210e33264702d",
       "max": 3,
       "style": "IPY_MODEL_0d69fce76b90498aa2eef1ddc160c47a",
       "value": 3
      }
     },
     "0c74ba4a9dfb4d109adb96691ece2c8d": {
      "model_module": "@jupyter-widgets/controls",
      "model_module_version": "2.0.0",
      "model_name": "HTMLModel",
      "state": {
       "layout": "IPY_MODEL_85d91f3854974602aa1728c1b862b454",
       "style": "IPY_MODEL_65938d68d39048ea83b274b34ff87480",
       "value": " 0/3 [00:00&lt;?, ? cmd/s]"
      }
     },
     "0d69fce76b90498aa2eef1ddc160c47a": {
      "model_module": "@jupyter-widgets/controls",
      "model_module_version": "2.0.0",
      "model_name": "ProgressStyleModel",
      "state": {
       "bar_color": "green",
       "description_width": ""
      }
     },
     "16946df033be4c41bde2e0d43dbb7ddf": {
      "model_module": "@jupyter-widgets/controls",
      "model_module_version": "2.0.0",
      "model_name": "HBoxModel",
      "state": {
       "children": [
        "IPY_MODEL_dc29b4950f364054beb0dfcd4b2223a0",
        "IPY_MODEL_5eaa0e07aed04320902c1141b08f1f66",
        "IPY_MODEL_ad8a3377a74d4932a050b4dfaf0dd2d3"
       ],
       "layout": "IPY_MODEL_b39d7785be194250ad5e185316329469"
      }
     },
     "16e0a06a0d234718ac560f65cd19a767": {
      "model_module": "@jupyter-widgets/controls",
      "model_module_version": "2.0.0",
      "model_name": "HBoxModel",
      "state": {
       "children": [
        "IPY_MODEL_75f97bf5a54b4bb593cb2fb275731b2c",
        "IPY_MODEL_9b26f0fd4171451e8c399afa02401455",
        "IPY_MODEL_be7521c2040648d1b1697dae1be9f116"
       ],
       "layout": "IPY_MODEL_4b90e5166d9640dcb37fb927f3693cdf"
      }
     },
     "1b1fbc15527d42c38a742454d1ae47c8": {
      "model_module": "@jupyter-widgets/controls",
      "model_module_version": "2.0.0",
      "model_name": "ProgressStyleModel",
      "state": {
       "description_width": ""
      }
     },
     "1bf36b238968475dbe3dc41552ef16fd": {
      "model_module": "@jupyter-widgets/controls",
      "model_module_version": "2.0.0",
      "model_name": "HBoxModel",
      "state": {
       "children": [
        "IPY_MODEL_ef54ef68f60d42a68ecfae5e9b219ad8",
        "IPY_MODEL_0b8844cef7f14640b3a14d9e918da5e3",
        "IPY_MODEL_c0fe2172f3904abca8531de933a93bc7"
       ],
       "layout": "IPY_MODEL_876574ca435d4fb0942f677cd6dd18d8"
      }
     },
     "240273d1d0454145ab0659a7d074d7c6": {
      "model_module": "@jupyter-widgets/controls",
      "model_module_version": "2.0.0",
      "model_name": "HTMLStyleModel",
      "state": {
       "description_width": "",
       "font_size": null,
       "text_color": null
      }
     },
     "2cb560fea0d34666bbd83adf9266f2cb": {
      "model_module": "@jupyter-widgets/controls",
      "model_module_version": "2.0.0",
      "model_name": "HTMLStyleModel",
      "state": {
       "description_width": "",
       "font_size": null,
       "text_color": null
      }
     },
     "31ab3e5d58224ea3805c3e7e25811568": {
      "model_module": "@jupyter-widgets/base",
      "model_module_version": "2.0.0",
      "model_name": "LayoutModel",
      "state": {}
     },
     "3acdc32a6dd0409f95620b62ab28cd8f": {
      "model_module": "@jupyter-widgets/controls",
      "model_module_version": "2.0.0",
      "model_name": "HTMLStyleModel",
      "state": {
       "description_width": "",
       "font_size": null,
       "text_color": null
      }
     },
     "3c5dc5e9b0af46fb8bb1adffa456b467": {
      "model_module": "@jupyter-widgets/base",
      "model_module_version": "2.0.0",
      "model_name": "LayoutModel",
      "state": {}
     },
     "4b90e5166d9640dcb37fb927f3693cdf": {
      "model_module": "@jupyter-widgets/base",
      "model_module_version": "2.0.0",
      "model_name": "LayoutModel",
      "state": {}
     },
     "4c88866e454142b3a882d72ca8de3c2a": {
      "model_module": "@jupyter-widgets/controls",
      "model_module_version": "2.0.0",
      "model_name": "HBoxModel",
      "state": {
       "children": [
        "IPY_MODEL_e20055d2e9e4499e8aa8c04b18502ca7",
        "IPY_MODEL_50dff2ca486a4b5a9e0fe1f09f1a6b2d",
        "IPY_MODEL_82c1226f6b4e44a2a8102ee6d14276d8"
       ],
       "layout": "IPY_MODEL_31ab3e5d58224ea3805c3e7e25811568"
      }
     },
     "4f426ac5e940409880ff9b02c629945e": {
      "model_module": "@jupyter-widgets/controls",
      "model_module_version": "2.0.0",
      "model_name": "HTMLStyleModel",
      "state": {
       "description_width": "",
       "font_size": null,
       "text_color": null
      }
     },
     "50dff2ca486a4b5a9e0fe1f09f1a6b2d": {
      "model_module": "@jupyter-widgets/controls",
      "model_module_version": "2.0.0",
      "model_name": "FloatProgressModel",
      "state": {
       "layout": "IPY_MODEL_5c76dbb344dd4249b565391e94b4e95b",
       "max": 3,
       "style": "IPY_MODEL_1b1fbc15527d42c38a742454d1ae47c8"
      }
     },
     "52f36a3f8af846c39df790eb84c2db04": {
      "model_module": "@jupyter-widgets/base",
      "model_module_version": "2.0.0",
      "model_name": "LayoutModel",
      "state": {}
     },
     "5526e5c3402e428b9bc6ae1f515fe824": {
      "model_module": "@jupyter-widgets/controls",
      "model_module_version": "2.0.0",
      "model_name": "HBoxModel",
      "state": {
       "children": [
        "IPY_MODEL_f6056c74f1bd41d7a2f866b76f9babf4",
        "IPY_MODEL_e0d0db00b76e4bfe83f58dc7c1ed69ab",
        "IPY_MODEL_0c74ba4a9dfb4d109adb96691ece2c8d"
       ],
       "layout": "IPY_MODEL_892674ea85404585b27a55fa9cbf4aa7"
      }
     },
     "560aa1f157b546d7a07855f360f70801": {
      "model_module": "@jupyter-widgets/controls",
      "model_module_version": "2.0.0",
      "model_name": "ProgressStyleModel",
      "state": {
       "description_width": ""
      }
     },
     "5c76dbb344dd4249b565391e94b4e95b": {
      "model_module": "@jupyter-widgets/base",
      "model_module_version": "2.0.0",
      "model_name": "LayoutModel",
      "state": {}
     },
     "5eaa0e07aed04320902c1141b08f1f66": {
      "model_module": "@jupyter-widgets/controls",
      "model_module_version": "2.0.0",
      "model_name": "FloatProgressModel",
      "state": {
       "layout": "IPY_MODEL_d0b42a1805df4a7abc8fe18d58df773c",
       "max": 3,
       "style": "IPY_MODEL_62220860a64e474da0446962468274b9"
      }
     },
     "62220860a64e474da0446962468274b9": {
      "model_module": "@jupyter-widgets/controls",
      "model_module_version": "2.0.0",
      "model_name": "ProgressStyleModel",
      "state": {
       "bar_color": "green",
       "description_width": ""
      }
     },
     "65938d68d39048ea83b274b34ff87480": {
      "model_module": "@jupyter-widgets/controls",
      "model_module_version": "2.0.0",
      "model_name": "HTMLStyleModel",
      "state": {
       "description_width": "",
       "font_size": null,
       "text_color": null
      }
     },
     "66159ffaa84d4c558d40023bd035b0b5": {
      "model_module": "@jupyter-widgets/controls",
      "model_module_version": "2.0.0",
      "model_name": "HTMLStyleModel",
      "state": {
       "description_width": "",
       "font_size": null,
       "text_color": null
      }
     },
     "6bbbfa5b8c0042f6b8e1b2a539904cef": {
      "model_module": "@jupyter-widgets/base",
      "model_module_version": "2.0.0",
      "model_name": "LayoutModel",
      "state": {}
     },
     "737033abfb5248178b252e709f3b65fc": {
      "model_module": "@jupyter-widgets/base",
      "model_module_version": "2.0.0",
      "model_name": "LayoutModel",
      "state": {}
     },
     "73c4ee30413a417d80920d488cae6de9": {
      "model_module": "@jupyter-widgets/controls",
      "model_module_version": "2.0.0",
      "model_name": "HTMLModel",
      "state": {
       "layout": "IPY_MODEL_d97ba80a1f8846b991973ee366478d7b",
       "style": "IPY_MODEL_2cb560fea0d34666bbd83adf9266f2cb",
       "value": " 0/3 [00:00&lt;?]"
      }
     },
     "75f97bf5a54b4bb593cb2fb275731b2c": {
      "model_module": "@jupyter-widgets/controls",
      "model_module_version": "2.0.0",
      "model_name": "HTMLModel",
      "state": {
       "layout": "IPY_MODEL_dcfbdc6bd48741f4af1a27de3242ee33",
       "style": "IPY_MODEL_81d6c2fe0e3f4e69a3353889a4480ba5",
       "value": "📋 Progress:   0%"
      }
     },
     "7955371f1efb47a8b3d463509261c9a1": {
      "model_module": "@jupyter-widgets/controls",
      "model_module_version": "2.0.0",
      "model_name": "HTMLStyleModel",
      "state": {
       "description_width": "",
       "font_size": null,
       "text_color": null
      }
     },
     "7a1fec0411094faf9cbf1fb7d48a5e59": {
      "model_module": "@jupyter-widgets/base",
      "model_module_version": "2.0.0",
      "model_name": "LayoutModel",
      "state": {}
     },
     "7b576ea7a0f34d5b88777e89a05fa8ca": {
      "model_module": "@jupyter-widgets/controls",
      "model_module_version": "2.0.0",
      "model_name": "HBoxModel",
      "state": {
       "children": [
        "IPY_MODEL_d57e8aed14274f1d91da569dec3ad0ab",
        "IPY_MODEL_c68f1604b1974456b47c5953a3360062",
        "IPY_MODEL_73c4ee30413a417d80920d488cae6de9"
       ],
       "layout": "IPY_MODEL_a5975d1f3cda4a38a15f336591e8a2cf"
      }
     },
     "81d6c2fe0e3f4e69a3353889a4480ba5": {
      "model_module": "@jupyter-widgets/controls",
      "model_module_version": "2.0.0",
      "model_name": "HTMLStyleModel",
      "state": {
       "description_width": "",
       "font_size": null,
       "text_color": null
      }
     },
     "82c1226f6b4e44a2a8102ee6d14276d8": {
      "model_module": "@jupyter-widgets/controls",
      "model_module_version": "2.0.0",
      "model_name": "HTMLModel",
      "state": {
       "layout": "IPY_MODEL_52f36a3f8af846c39df790eb84c2db04",
       "style": "IPY_MODEL_f866f2d3c6d041f396331f5f9976abce",
       "value": " 0/3 [00:00&lt;?, ?cmd/s]"
      }
     },
     "85d91f3854974602aa1728c1b862b454": {
      "model_module": "@jupyter-widgets/base",
      "model_module_version": "2.0.0",
      "model_name": "LayoutModel",
      "state": {}
     },
     "876574ca435d4fb0942f677cd6dd18d8": {
      "model_module": "@jupyter-widgets/base",
      "model_module_version": "2.0.0",
      "model_name": "LayoutModel",
      "state": {}
     },
     "892674ea85404585b27a55fa9cbf4aa7": {
      "model_module": "@jupyter-widgets/base",
      "model_module_version": "2.0.0",
      "model_name": "LayoutModel",
      "state": {}
     },
     "8b3871d9ba624bfc84f77375939eb941": {
      "model_module": "@jupyter-widgets/base",
      "model_module_version": "2.0.0",
      "model_name": "LayoutModel",
      "state": {}
     },
     "9b26f0fd4171451e8c399afa02401455": {
      "model_module": "@jupyter-widgets/controls",
      "model_module_version": "2.0.0",
      "model_name": "FloatProgressModel",
      "state": {
       "layout": "IPY_MODEL_dbce87bb68e64d15b7286fbd95c8c492",
       "max": 3,
       "style": "IPY_MODEL_560aa1f157b546d7a07855f360f70801"
      }
     },
     "9c42f48ba342401d8459334c9d6b96a5": {
      "model_module": "@jupyter-widgets/base",
      "model_module_version": "2.0.0",
      "model_name": "LayoutModel",
      "state": {}
     },
     "a5975d1f3cda4a38a15f336591e8a2cf": {
      "model_module": "@jupyter-widgets/base",
      "model_module_version": "2.0.0",
      "model_name": "LayoutModel",
      "state": {}
     },
     "ad8a3377a74d4932a050b4dfaf0dd2d3": {
      "model_module": "@jupyter-widgets/controls",
      "model_module_version": "2.0.0",
      "model_name": "HTMLModel",
      "state": {
       "layout": "IPY_MODEL_8b3871d9ba624bfc84f77375939eb941",
       "style": "IPY_MODEL_b68994961884466da50b235cd5d0ae89",
       "value": " 0/3 [00:00&lt;?, ?cmd/s]"
      }
     },
     "b391bfd26206498db969be7d27b214d4": {
      "model_module": "@jupyter-widgets/controls",
      "model_module_version": "2.0.0",
      "model_name": "HTMLStyleModel",
      "state": {
       "description_width": "",
       "font_size": null,
       "text_color": null
      }
     },
     "b39d7785be194250ad5e185316329469": {
      "model_module": "@jupyter-widgets/base",
      "model_module_version": "2.0.0",
      "model_name": "LayoutModel",
      "state": {
       "display": "inline-flex",
       "flex_flow": "row wrap",
       "width": "100%"
      }
     },
     "b68994961884466da50b235cd5d0ae89": {
      "model_module": "@jupyter-widgets/controls",
      "model_module_version": "2.0.0",
      "model_name": "HTMLStyleModel",
      "state": {
       "description_width": "",
       "font_size": null,
       "text_color": null
      }
     },
     "be7521c2040648d1b1697dae1be9f116": {
      "model_module": "@jupyter-widgets/controls",
      "model_module_version": "2.0.0",
      "model_name": "HTMLModel",
      "state": {
       "layout": "IPY_MODEL_e07702bd0c1449e5b28b0d755c579bb9",
       "style": "IPY_MODEL_4f426ac5e940409880ff9b02c629945e",
       "value": " 0/3 [00:00&lt;?]"
      }
     },
     "c0fe2172f3904abca8531de933a93bc7": {
      "model_module": "@jupyter-widgets/controls",
      "model_module_version": "2.0.0",
      "model_name": "HTMLModel",
      "state": {
       "layout": "IPY_MODEL_e599d603ce5e47de952f8d9f28ea77b5",
       "style": "IPY_MODEL_c77ccc2da8ae4a11a144f9655f7b57c5",
       "value": " 3/3 [00:03&lt;00:00,  1.33 cmd/s]"
      }
     },
     "c68f1604b1974456b47c5953a3360062": {
      "model_module": "@jupyter-widgets/controls",
      "model_module_version": "2.0.0",
      "model_name": "FloatProgressModel",
      "state": {
       "layout": "IPY_MODEL_6bbbfa5b8c0042f6b8e1b2a539904cef",
       "max": 3,
       "style": "IPY_MODEL_ce51f47ce09044be898425a8a962112b"
      }
     },
     "c77ccc2da8ae4a11a144f9655f7b57c5": {
      "model_module": "@jupyter-widgets/controls",
      "model_module_version": "2.0.0",
      "model_name": "HTMLStyleModel",
      "state": {
       "description_width": "",
       "font_size": null,
       "text_color": null
      }
     },
     "cd7b10370a3c413c9f62b6f89b86d88f": {
      "model_module": "@jupyter-widgets/base",
      "model_module_version": "2.0.0",
      "model_name": "LayoutModel",
      "state": {}
     },
     "ce51f47ce09044be898425a8a962112b": {
      "model_module": "@jupyter-widgets/controls",
      "model_module_version": "2.0.0",
      "model_name": "ProgressStyleModel",
      "state": {
       "description_width": ""
      }
     },
     "d0b42a1805df4a7abc8fe18d58df773c": {
      "model_module": "@jupyter-widgets/base",
      "model_module_version": "2.0.0",
      "model_name": "LayoutModel",
      "state": {
       "flex": "2"
      }
     },
     "d57e8aed14274f1d91da569dec3ad0ab": {
      "model_module": "@jupyter-widgets/controls",
      "model_module_version": "2.0.0",
      "model_name": "HTMLModel",
      "state": {
       "layout": "IPY_MODEL_9c42f48ba342401d8459334c9d6b96a5",
       "style": "IPY_MODEL_66159ffaa84d4c558d40023bd035b0b5",
       "value": "📋 Progress:   0%"
      }
     },
     "d7bc3d5bb3464e04975210e33264702d": {
      "model_module": "@jupyter-widgets/base",
      "model_module_version": "2.0.0",
      "model_name": "LayoutModel",
      "state": {}
     },
     "d97ba80a1f8846b991973ee366478d7b": {
      "model_module": "@jupyter-widgets/base",
      "model_module_version": "2.0.0",
      "model_name": "LayoutModel",
      "state": {}
     },
     "dbce87bb68e64d15b7286fbd95c8c492": {
      "model_module": "@jupyter-widgets/base",
      "model_module_version": "2.0.0",
      "model_name": "LayoutModel",
      "state": {}
     },
     "dc29b4950f364054beb0dfcd4b2223a0": {
      "model_module": "@jupyter-widgets/controls",
      "model_module_version": "2.0.0",
      "model_name": "HTMLModel",
      "state": {
       "layout": "IPY_MODEL_737033abfb5248178b252e709f3b65fc",
       "style": "IPY_MODEL_b391bfd26206498db969be7d27b214d4",
       "value": "📋 [1/3] Running:   0%"
      }
     },
     "dcfbdc6bd48741f4af1a27de3242ee33": {
      "model_module": "@jupyter-widgets/base",
      "model_module_version": "2.0.0",
      "model_name": "LayoutModel",
      "state": {}
     },
     "e07702bd0c1449e5b28b0d755c579bb9": {
      "model_module": "@jupyter-widgets/base",
      "model_module_version": "2.0.0",
      "model_name": "LayoutModel",
      "state": {}
     },
     "e0d0db00b76e4bfe83f58dc7c1ed69ab": {
      "model_module": "@jupyter-widgets/controls",
      "model_module_version": "2.0.0",
      "model_name": "FloatProgressModel",
      "state": {
       "layout": "IPY_MODEL_3c5dc5e9b0af46fb8bb1adffa456b467",
       "max": 3,
       "style": "IPY_MODEL_f10678c2134d414d961de3ae1956568c"
      }
     },
     "e20055d2e9e4499e8aa8c04b18502ca7": {
      "model_module": "@jupyter-widgets/controls",
      "model_module_version": "2.0.0",
      "model_name": "HTMLModel",
      "state": {
       "layout": "IPY_MODEL_cd7b10370a3c413c9f62b6f89b86d88f",
       "style": "IPY_MODEL_240273d1d0454145ab0659a7d074d7c6",
       "value": "🔥 Step 1/3: pip install uv:   0%"
      }
     },
     "e599d603ce5e47de952f8d9f28ea77b5": {
      "model_module": "@jupyter-widgets/base",
      "model_module_version": "2.0.0",
      "model_name": "LayoutModel",
      "state": {}
     },
     "ef54ef68f60d42a68ecfae5e9b219ad8": {
      "model_module": "@jupyter-widgets/controls",
      "model_module_version": "2.0.0",
      "model_name": "HTMLModel",
      "state": {
       "layout": "IPY_MODEL_7a1fec0411094faf9cbf1fb7d48a5e59",
       "style": "IPY_MODEL_7955371f1efb47a8b3d463509261c9a1",
       "value": "🎉 All commands completed!: 100%"
      }
     },
     "f10678c2134d414d961de3ae1956568c": {
      "model_module": "@jupyter-widgets/controls",
      "model_module_version": "2.0.0",
      "model_name": "ProgressStyleModel",
      "state": {
       "bar_color": "green",
       "description_width": ""
      }
     },
     "f6056c74f1bd41d7a2f866b76f9babf4": {
      "model_module": "@jupyter-widgets/controls",
      "model_module_version": "2.0.0",
      "model_name": "HTMLModel",
      "state": {
       "layout": "IPY_MODEL_ffe08464dc754c858cdca8f00004fadc",
       "style": "IPY_MODEL_3acdc32a6dd0409f95620b62ab28cd8f",
       "value": "✨ Step 1/3: pip install uv:   0%"
      }
     },
     "f866f2d3c6d041f396331f5f9976abce": {
      "model_module": "@jupyter-widgets/controls",
      "model_module_version": "2.0.0",
      "model_name": "HTMLStyleModel",
      "state": {
       "description_width": "",
       "font_size": null,
       "text_color": null
      }
     },
     "ffe08464dc754c858cdca8f00004fadc": {
      "model_module": "@jupyter-widgets/base",
      "model_module_version": "2.0.0",
      "model_name": "LayoutModel",
      "state": {}
     }
    },
    "version_major": 2,
    "version_minor": 0
   }
  }
 },
 "nbformat": 4,
 "nbformat_minor": 5
}

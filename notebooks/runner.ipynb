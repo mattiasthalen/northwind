{
 "cells": [
  {
   "cell_type": "markdown",
   "id": "462324a1-fa87-4bb3-b5a1-ecf121c8da19",
   "metadata": {
    "microsoft": {
     "language": "python",
     "language_group": "jupyter_python"
    },
    "nteract": {
     "transient": {
      "deleting": false
     }
    }
   },
   "source": [
    "# dlt & SQLMesh Runner"
   ]
  },
  {
   "cell_type": "markdown",
   "id": "47a09153-0da0-4e44-bf75-11558e98e0e8",
   "metadata": {
    "microsoft": {
     "language": "python",
     "language_group": "jupyter_python"
    },
    "nteract": {
     "transient": {
      "deleting": false
     }
    }
   },
   "source": [
    "## Install Dependencies"
   ]
  },
  {
   "cell_type": "code",
   "execution_count": null,
   "id": "034e1ac4-98ec-4de0-bbc9-74d368a25d24",
   "metadata": {
    "microsoft": {
     "language": "python",
     "language_group": "jupyter_python"
    }
   },
   "outputs": [],
   "source": [
    "%pip install \"dlt[az,deltalake,filesystem,parquet]>=1.12.1\"\n",
    "%pip install \"enlighten>=1.14.1\"\n",
    "%pip install \"ibis==3.3.0\"\n",
    "%pip install \"networkx>=3.5\"\n",
    "%pip install \"sqlmesh[fabric,mssql] @ git+https://github.com/TobikoData/sqlmesh.git\""
   ]
  },
  {
   "cell_type": "markdown",
   "id": "858947f6-cf7d-4757-83c7-85c13de91f6b",
   "metadata": {
    "microsoft": {
     "language": "python",
     "language_group": "jupyter_python"
    },
    "nteract": {
     "transient": {
      "deleting": false
     }
    }
   },
   "source": [
    "## Set Environment Vars"
   ]
  },
  {
   "cell_type": "markdown",
   "id": "d98964a4-9b69-4660-9365-7bc117742b73",
   "metadata": {
    "microsoft": {
     "language": "python",
     "language_group": "jupyter_python"
    },
    "nteract": {
     "transient": {
      "deleting": false
     }
    }
   },
   "source": [
    "### Load From KeyVault"
   ]
  },
  {
   "cell_type": "code",
   "execution_count": null,
   "id": "2ac6562e-7f5d-458e-9e8c-0154d93849af",
   "metadata": {
    "microsoft": {
     "language": "python",
     "language_group": "jupyter_python"
    }
   },
   "outputs": [],
   "source": [
    "import os\n",
    "\n",
    "keyvault = \"mattiasthalen-fabric\"\n",
    "\n",
    "credentials = [\n",
    "    \"CREDENTIALS__AZURE_TENANT_ID\",\n",
    "    \"CREDENTIALS__AZURE_CLIENT_ID\",\n",
    "    \"CREDENTIALS__AZURE_CLIENT_SECRET\",\n",
    "]\n",
    "\n",
    "for credential in credentials:\n",
    "    secret = credential.replace(\"_\", \"-\")\n",
    "    value = notebookutils.credentials.getSecret(f\"https://{keyvault}.vault.azure.net/\", secret)\n",
    "    os.environ[credential] = value\n",
    "\n",
    "    print(f\"{credential} = {os.getenv(credential)}\")"
   ]
  },
  {
   "cell_type": "markdown",
   "id": "076222a3-932b-449c-adc7-323e7e1490ca",
   "metadata": {
    "microsoft": {
     "language": "python",
     "language_group": "jupyter_python"
    },
    "nteract": {
     "transient": {
      "deleting": false
     }
    }
   },
   "source": [
    "### Load From Variable Library"
   ]
  },
  {
   "cell_type": "code",
   "execution_count": null,
   "id": "d83d342f-3c9a-4c1b-8d72-18ec3ceb92e8",
   "metadata": {
    "microsoft": {
     "language": "python",
     "language_group": "jupyter_python"
    }
   },
   "outputs": [],
   "source": [
    "variable_library = \"project_vars\"\n",
    "project_vars = notebookutils.variableLibrary.getLibrary(variable_library)\n",
    "\n",
    "vars = [\n",
    "    \"FABRIC__WORKSPACE_ID\",\n",
    "    \"FABRIC__WAREHOUSE_ENDPOINT\",\n",
    "    \"FABRIC__STATE_ENDPOINT\",\n",
    "    \"FABRIC__STATE_DATABASE\",\n",
    "    \"DESTINATION__BUCKET_URL\",\n",
    "]\n",
    "\n",
    "for var in vars:\n",
    "    value = project_vars[var]\n",
    "    os.environ[var] = value\n",
    "    print(f\"{var} = {os.getenv(credential)}\")\n"
   ]
  },
  {
   "cell_type": "markdown",
   "id": "876a6dd0-feec-4ea0-9448-d4e6bf09f31f",
   "metadata": {
    "microsoft": {
     "language": "python",
     "language_group": "jupyter_python"
    },
    "nteract": {
     "transient": {
      "deleting": false
     }
    }
   },
   "source": [
    "## Clone Project"
   ]
  },
  {
   "cell_type": "code",
   "execution_count": null,
   "id": "db701483-943f-42d1-98e6-d58f5101ed8e",
   "metadata": {
    "jupyter": {
     "outputs_hidden": false,
     "source_hidden": false
    },
    "microsoft": {
     "language": "python",
     "language_group": "jupyter_python"
    },
    "nteract": {
     "transient": {
      "deleting": false
     }
    }
   },
   "outputs": [],
   "source": [
    "import git\n",
    "\n",
    "organization = \"mattiasthalen\"\n",
    "repo_name = \"northwind-to-fabric\"\n",
    "\n",
    "url = f\"https://github.com/{organization}/{repo_name}.git\"\n",
    "\n",
    "branch = \"main\"\n",
    "code_path = f\"/lakehouse/default/Files/{repo_name}\"\n",
    "\n",
    "try:\n",
    "    repo = git.Repo.clone_from(\n",
    "        url=url,\n",
    "        to_path=code_path,\n",
    "        branch=branch,\n",
    "        depth=1,\n",
    "        single_branch=True\n",
    "    )\n",
    "except git.GitCommandError as e:\n",
    "    if e.status == 128:\n",
    "        repo = git.Repo(code_path)\n",
    "        origin = repo.remotes.origin\n",
    "        origin.pull(branch)\n",
    "    else:\n",
    "        raise"
   ]
  },
  {
   "cell_type": "markdown",
   "id": "c2c8b17b-3c16-4400-8874-63d7d4fa3421",
   "metadata": {
    "microsoft": {
     "language": "python",
     "language_group": "jupyter_python"
    },
    "nteract": {
     "transient": {
      "deleting": false
     }
    }
   },
   "source": [
    "## Run Project"
   ]
  },
  {
   "cell_type": "markdown",
   "id": "6d6ab958-10dc-4adb-a4bd-c88e8d777e09",
   "metadata": {
    "microsoft": {
     "language": "python",
     "language_group": "jupyter_python"
    },
    "nteract": {
     "transient": {
      "deleting": false
     }
    }
   },
   "source": [
    "### Run dlt"
   ]
  },
  {
   "cell_type": "code",
   "execution_count": null,
   "id": "d6a5b6d4-8a39-4c04-a953-c1f0e738f94e",
   "metadata": {
    "microsoft": {
     "language": "python",
     "language_group": "jupyter_python"
    }
   },
   "outputs": [],
   "source": [
    "import subprocess\n",
    "\n",
    "cmd = [\"python\", \"dlt/northwind.py\", \"prod\"]\n",
    "result = subprocess.run(\n",
    "    cmd,\n",
    "    cwd=code_path,\n",
    "    text=True,\n",
    "    check=True\n",
    ") "
   ]
  },
  {
   "cell_type": "markdown",
   "id": "e673f7ae-c46f-43af-b6f5-c0d0919cd48c",
   "metadata": {
    "microsoft": {
     "language": "python",
     "language_group": "jupyter_python"
    },
    "nteract": {
     "transient": {
      "deleting": false
     }
    }
   },
   "source": [
    "### Run SQLMesh"
   ]
  },
  {
   "cell_type": "code",
   "execution_count": null,
   "id": "d446b391-9242-4568-91e9-5c37377ccd3e",
   "metadata": {
    "microsoft": {
     "language": "python",
     "language_group": "jupyter_python"
    }
   },
   "outputs": [],
   "source": [
    "import subprocess\n",
    "\n",
    "cmd = [\"sqlmesh\", \"plan\", \"prod\", \"--run\", \"--auto-apply\", \"--no-prompts\"]\n",
    "result = subprocess.run(\n",
    "    cmd,\n",
    "    cwd=code_path,\n",
    "    text=True,\n",
    "    check=True\n",
    ") "
   ]
  }
 ],
 "metadata": {
  "dependencies": {
   "lakehouse": {
    "default_lakehouse": "2c98cc5e-bff5-4fcb-b459-d698c8d4dea9",
    "default_lakehouse_name": "landing_zone",
    "default_lakehouse_workspace_id": "99a969c7-6acc-45c8-808f-93eea0b7b50e",
    "known_lakehouses": [
     {
      "id": "2c98cc5e-bff5-4fcb-b459-d698c8d4dea9"
     }
    ]
   }
  },
  "kernel_info": {
   "jupyter_kernel_name": "python3.11",
   "name": "jupyter"
  },
  "kernelspec": {
   "display_name": "Jupyter",
   "name": "jupyter"
  },
  "language_info": {
   "name": "python"
  },
  "microsoft": {
   "language": "python",
   "language_group": "jupyter_python",
   "ms_spell_check": {
    "ms_spell_check_language": "en"
   }
  },
  "nteract": {
   "version": "nteract-front-end@1.0.0"
  },
  "spark_compute": {
   "compute_id": "/trident/default",
   "session_options": {
    "conf": {
     "spark.synapse.nbs.session.timeout": "1200000"
    }
   }
  }
 },
 "nbformat": 4,
 "nbformat_minor": 5
}
